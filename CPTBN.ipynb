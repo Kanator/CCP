{
 "cells": [
  {
   "cell_type": "markdown",
   "metadata": {},
   "source": [
    "# Capstone Project - The Battle of Neighborhoods\n",
    "\n",
    "## Introduction / Business Problem\n",
    "\n",
    "Restaurant Vs. Coffee Shop\n",
    "\n",
    "The City of Berlin has been slowly but steady in the last two decades. Our customer, Mistress X wanted to open a Chinese restaurant, but with the many different cultures inside the city, she now thinks about changing her plan an open a coffee shop to drawn in customers from the population. In her opinion, people like coffee, no matter where they originated from.\n",
    "Every business comes with a risk and some will have to close again as the increased number has to share their potential customers. This is the case in Berlin. The population didn´t increase proportionately to the number of restaurants/coffee shops.\n",
    "\n",
    "Mistress X came to our company to help her understanding the situation and support her decision making just what kind of business will be best for her. We need to find the best position for both business choices and find out which one has the better chances to make it."
   ]
  },
  {
   "cell_type": "markdown",
   "metadata": {},
   "source": [
    "## Data\n",
    "\n",
    "1.\tThe geographical location of Berlin\n",
    "This will help us to generate a map with the following data\n",
    "\n",
    "2.\tThe neighborhoods of Berlin and their boundaries.\n",
    "Works hand in hand with the first point. We use this to cluster the existing restaurants and stores together as humans with the same culturally background tend to stay together. This also leads to the assumption, that more of existing Chinese restaurants will be found in the same neighborhood.\n",
    "\n",
    "3.\tThe locations of the Chinese restaurants in Berlin including their coordinates.\n",
    "In relation to number two, the assuming is, that while many restaurants will stick together, there will be exceptions. These exceptions are the most interesting as they can provide information about potential neighborhoods that aren´t covered right now.\n",
    "\n",
    "4.\tThe locations of the coffee shops in Berlin including their coordinates.\n",
    "The data will be uses to see, just where the existing coffee shops are.\n",
    "\n",
    "5.\tThe locations for the potential restaurant / store\n",
    "These locations will be used to find the optimal places in relation to the existing competition.\n",
    "\n",
    "6.\tThe collected data will be explored to understand what we are dealing with.\n",
    "\n",
    "7.\tThe Data will now be cleaned, formatted, processed, and a model created.\n",
    "\n",
    "8.\tThe newly generated data from the model will be analyzed.\n",
    "We want to see what business model has the best chances."
   ]
  },
  {
   "cell_type": "code",
   "execution_count": null,
   "metadata": {},
   "outputs": [],
   "source": []
  }
 ],
 "metadata": {
  "kernelspec": {
   "display_name": "Python 3",
   "language": "python",
   "name": "python3"
  },
  "language_info": {
   "codemirror_mode": {
    "name": "ipython",
    "version": 3
   },
   "file_extension": ".py",
   "mimetype": "text/x-python",
   "name": "python",
   "nbconvert_exporter": "python",
   "pygments_lexer": "ipython3",
   "version": "3.7.3"
  }
 },
 "nbformat": 4,
 "nbformat_minor": 2
}
