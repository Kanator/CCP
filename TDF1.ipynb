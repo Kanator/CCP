{
 "cells": [
  {
   "cell_type": "code",
   "execution_count": 1,
   "metadata": {},
   "outputs": [],
   "source": [
    "import pandas as pd\n",
    "import requests\n",
    "from bs4 import BeautifulSoup\n",
    "from tabulate import tabulate"
   ]
  },
  {
   "cell_type": "markdown",
   "metadata": {},
   "source": [
    "Loading stuff"
   ]
  },
  {
   "cell_type": "code",
   "execution_count": 2,
   "metadata": {},
   "outputs": [],
   "source": [
    "source = requests.get('https://en.wikipedia.org/wiki/List_of_postal_codes_of_Canada:_M').text"
   ]
  },
  {
   "cell_type": "markdown",
   "metadata": {},
   "source": [
    "reading the html file"
   ]
  },
  {
   "cell_type": "code",
   "execution_count": 3,
   "metadata": {},
   "outputs": [],
   "source": [
    "soup = BeautifulSoup(source, 'lxml')"
   ]
  },
  {
   "cell_type": "markdown",
   "metadata": {},
   "source": [
    "running soup"
   ]
  },
  {
   "cell_type": "code",
   "execution_count": 20,
   "metadata": {},
   "outputs": [],
   "source": [
    "#print(soup.prettify())"
   ]
  },
  {
   "cell_type": "markdown",
   "metadata": {},
   "source": [
    "Looking into the soup output and see what is usefull. To make the file more readable, the command is deactivated"
   ]
  },
  {
   "cell_type": "code",
   "execution_count": 21,
   "metadata": {},
   "outputs": [],
   "source": [
    "res = []"
   ]
  },
  {
   "cell_type": "markdown",
   "metadata": {},
   "source": [
    "creating empty dataframe"
   ]
  },
  {
   "cell_type": "code",
   "execution_count": 22,
   "metadata": {},
   "outputs": [],
   "source": [
    "table = soup.find('table')"
   ]
  },
  {
   "cell_type": "markdown",
   "metadata": {},
   "source": [
    "extracting the table"
   ]
  },
  {
   "cell_type": "code",
   "execution_count": 23,
   "metadata": {},
   "outputs": [],
   "source": [
    "#print(table)"
   ]
  },
  {
   "cell_type": "markdown",
   "metadata": {},
   "source": [
    "viewing the table. To make the file more readable, the command is deactivated"
   ]
  },
  {
   "cell_type": "code",
   "execution_count": 24,
   "metadata": {},
   "outputs": [],
   "source": [
    "table_rows = table.find_all('tr')"
   ]
  },
  {
   "cell_type": "markdown",
   "metadata": {},
   "source": [
    "getting the rows of the table"
   ]
  },
  {
   "cell_type": "code",
   "execution_count": 25,
   "metadata": {},
   "outputs": [],
   "source": [
    "#print(table_rows)"
   ]
  },
  {
   "cell_type": "markdown",
   "metadata": {},
   "source": [
    "viewing the rows. To make the file more readable, the command is deactivated"
   ]
  },
  {
   "cell_type": "code",
   "execution_count": 26,
   "metadata": {},
   "outputs": [],
   "source": [
    "for tr in table_rows:\n",
    "    td = tr.find_all('td')\n",
    "    row = [tr.text.strip() for tr in td if tr.text.strip()]\n",
    "    if row:\n",
    "        res.append(row)"
   ]
  },
  {
   "cell_type": "markdown",
   "metadata": {},
   "source": [
    "putting the rows into the dataframe"
   ]
  },
  {
   "cell_type": "code",
   "execution_count": 27,
   "metadata": {},
   "outputs": [],
   "source": [
    "df = pd.DataFrame(res, columns=[\"PostalCode\", \"Borough\", \"Neighborhood\"])"
   ]
  },
  {
   "cell_type": "markdown",
   "metadata": {},
   "source": [
    "name the colums"
   ]
  },
  {
   "cell_type": "code",
   "execution_count": 28,
   "metadata": {},
   "outputs": [],
   "source": [
    "#print(df)"
   ]
  },
  {
   "cell_type": "markdown",
   "metadata": {},
   "source": [
    "viewing the output.  To make the file more readable, the command is deactivated"
   ]
  },
  {
   "cell_type": "code",
   "execution_count": 29,
   "metadata": {},
   "outputs": [],
   "source": [
    "dfb = df[df.Borough != 'Not assigned']"
   ]
  },
  {
   "cell_type": "code",
   "execution_count": 30,
   "metadata": {},
   "outputs": [
    {
     "name": "stdout",
     "output_type": "stream",
     "text": [
      "    PostalCode           Borough  \\\n",
      "2          M3A        North York   \n",
      "3          M4A        North York   \n",
      "4          M5A  Downtown Toronto   \n",
      "5          M5A  Downtown Toronto   \n",
      "6          M6A        North York   \n",
      "7          M6A        North York   \n",
      "8          M7A      Queen's Park   \n",
      "10         M9A         Etobicoke   \n",
      "11         M1B       Scarborough   \n",
      "12         M1B       Scarborough   \n",
      "14         M3B        North York   \n",
      "15         M4B         East York   \n",
      "16         M4B         East York   \n",
      "17         M5B  Downtown Toronto   \n",
      "18         M5B  Downtown Toronto   \n",
      "19         M6B        North York   \n",
      "22         M9B         Etobicoke   \n",
      "23         M9B         Etobicoke   \n",
      "24         M9B         Etobicoke   \n",
      "25         M9B         Etobicoke   \n",
      "26         M9B         Etobicoke   \n",
      "27         M1C       Scarborough   \n",
      "28         M1C       Scarborough   \n",
      "29         M1C       Scarborough   \n",
      "31         M3C        North York   \n",
      "32         M3C        North York   \n",
      "33         M4C         East York   \n",
      "34         M5C  Downtown Toronto   \n",
      "35         M6C              York   \n",
      "38         M9C         Etobicoke   \n",
      "..         ...               ...   \n",
      "235        M9V         Etobicoke   \n",
      "236        M1W       Scarborough   \n",
      "239        M4W  Downtown Toronto   \n",
      "240        M5W  Downtown Toronto   \n",
      "243        M8W         Etobicoke   \n",
      "244        M8W         Etobicoke   \n",
      "245        M9W         Etobicoke   \n",
      "246        M1X       Scarborough   \n",
      "249        M4X  Downtown Toronto   \n",
      "250        M4X  Downtown Toronto   \n",
      "251        M5X  Downtown Toronto   \n",
      "252        M5X  Downtown Toronto   \n",
      "255        M8X         Etobicoke   \n",
      "256        M8X         Etobicoke   \n",
      "257        M8X         Etobicoke   \n",
      "262        M4Y  Downtown Toronto   \n",
      "265        M7Y      East Toronto   \n",
      "266        M8Y         Etobicoke   \n",
      "267        M8Y         Etobicoke   \n",
      "268        M8Y         Etobicoke   \n",
      "269        M8Y         Etobicoke   \n",
      "270        M8Y         Etobicoke   \n",
      "271        M8Y         Etobicoke   \n",
      "272        M8Y         Etobicoke   \n",
      "273        M8Y         Etobicoke   \n",
      "282        M8Z         Etobicoke   \n",
      "283        M8Z         Etobicoke   \n",
      "284        M8Z         Etobicoke   \n",
      "285        M8Z         Etobicoke   \n",
      "286        M8Z         Etobicoke   \n",
      "\n",
      "                                          Neighborhood  \n",
      "2                                            Parkwoods  \n",
      "3                                     Victoria Village  \n",
      "4                                         Harbourfront  \n",
      "5                                          Regent Park  \n",
      "6                                     Lawrence Heights  \n",
      "7                                       Lawrence Manor  \n",
      "8                                         Not assigned  \n",
      "10                                    Islington Avenue  \n",
      "11                                               Rouge  \n",
      "12                                             Malvern  \n",
      "14                                     Don Mills North  \n",
      "15                                    Woodbine Gardens  \n",
      "16                                       Parkview Hill  \n",
      "17                                             Ryerson  \n",
      "18                                     Garden District  \n",
      "19                                           Glencairn  \n",
      "22                                          Cloverdale  \n",
      "23                                           Islington  \n",
      "24                                        Martin Grove  \n",
      "25                                    Princess Gardens  \n",
      "26                                     West Deane Park  \n",
      "27                                      Highland Creek  \n",
      "28                                          Rouge Hill  \n",
      "29                                          Port Union  \n",
      "31                                     Flemingdon Park  \n",
      "32                                     Don Mills South  \n",
      "33                                    Woodbine Heights  \n",
      "34                                      St. James Town  \n",
      "35                                  Humewood-Cedarvale  \n",
      "38                                   Bloordale Gardens  \n",
      "..                                                 ...  \n",
      "235                                        Thistletown  \n",
      "236                                    L'Amoreaux West  \n",
      "239                                           Rosedale  \n",
      "240                    Stn A PO Boxes 25 The Esplanade  \n",
      "243                                          Alderwood  \n",
      "244                                        Long Branch  \n",
      "245                                          Northwest  \n",
      "246                                        Upper Rouge  \n",
      "249                                        Cabbagetown  \n",
      "250                                     St. James Town  \n",
      "251                               First Canadian Place  \n",
      "252                                   Underground city  \n",
      "255                                       The Kingsway  \n",
      "256                                    Montgomery Road  \n",
      "257                                     Old Mill North  \n",
      "262                               Church and Wellesley  \n",
      "265  Business Reply Mail Processing Centre 969 Eastern  \n",
      "266                                         Humber Bay  \n",
      "267                                   King's Mill Park  \n",
      "268                           Kingsway Park South East  \n",
      "269                                          Mimico NE  \n",
      "270                                     Old Mill South  \n",
      "271                                 The Queensway East  \n",
      "272                              Royal York South East  \n",
      "273                                           Sunnylea  \n",
      "282                           Kingsway Park South West  \n",
      "283                                          Mimico NW  \n",
      "284                                 The Queensway West  \n",
      "285                              Royal York South West  \n",
      "286                                     South of Bloor  \n",
      "\n",
      "[211 rows x 3 columns]\n"
     ]
    }
   ],
   "source": [
    "print(dfb)"
   ]
  },
  {
   "cell_type": "markdown",
   "metadata": {},
   "source": [
    "Removing the 'Not assigned' Borough"
   ]
  },
  {
   "cell_type": "code",
   "execution_count": 31,
   "metadata": {},
   "outputs": [],
   "source": [
    "dfc = dfb.groupby(['PostalCode','Borough']).apply(list).apply(lambda x:', '.join(x)).to_frame().reset_index()"
   ]
  },
  {
   "cell_type": "markdown",
   "metadata": {},
   "source": [
    "Grouping everything by PostalCode and Borough and aggregating the Neighborhoods"
   ]
  },
  {
   "cell_type": "code",
   "execution_count": 32,
   "metadata": {},
   "outputs": [
    {
     "name": "stdout",
     "output_type": "stream",
     "text": [
      "    PostalCode           Borough                                  0\n",
      "0          M1B       Scarborough  PostalCode, Borough, Neighborhood\n",
      "1          M1C       Scarborough  PostalCode, Borough, Neighborhood\n",
      "2          M1E       Scarborough  PostalCode, Borough, Neighborhood\n",
      "3          M1G       Scarborough  PostalCode, Borough, Neighborhood\n",
      "4          M1H       Scarborough  PostalCode, Borough, Neighborhood\n",
      "5          M1J       Scarborough  PostalCode, Borough, Neighborhood\n",
      "6          M1K       Scarborough  PostalCode, Borough, Neighborhood\n",
      "7          M1L       Scarborough  PostalCode, Borough, Neighborhood\n",
      "8          M1M       Scarborough  PostalCode, Borough, Neighborhood\n",
      "9          M1N       Scarborough  PostalCode, Borough, Neighborhood\n",
      "10         M1P       Scarborough  PostalCode, Borough, Neighborhood\n",
      "11         M1R       Scarborough  PostalCode, Borough, Neighborhood\n",
      "12         M1S       Scarborough  PostalCode, Borough, Neighborhood\n",
      "13         M1T       Scarborough  PostalCode, Borough, Neighborhood\n",
      "14         M1V       Scarborough  PostalCode, Borough, Neighborhood\n",
      "15         M1W       Scarborough  PostalCode, Borough, Neighborhood\n",
      "16         M1X       Scarborough  PostalCode, Borough, Neighborhood\n",
      "17         M2H        North York  PostalCode, Borough, Neighborhood\n",
      "18         M2J        North York  PostalCode, Borough, Neighborhood\n",
      "19         M2K        North York  PostalCode, Borough, Neighborhood\n",
      "20         M2L        North York  PostalCode, Borough, Neighborhood\n",
      "21         M2M        North York  PostalCode, Borough, Neighborhood\n",
      "22         M2N        North York  PostalCode, Borough, Neighborhood\n",
      "23         M2P        North York  PostalCode, Borough, Neighborhood\n",
      "24         M2R        North York  PostalCode, Borough, Neighborhood\n",
      "25         M3A        North York  PostalCode, Borough, Neighborhood\n",
      "26         M3B        North York  PostalCode, Borough, Neighborhood\n",
      "27         M3C        North York  PostalCode, Borough, Neighborhood\n",
      "28         M3H        North York  PostalCode, Borough, Neighborhood\n",
      "29         M3J        North York  PostalCode, Borough, Neighborhood\n",
      "..         ...               ...                                ...\n",
      "73         M6C              York  PostalCode, Borough, Neighborhood\n",
      "74         M6E              York  PostalCode, Borough, Neighborhood\n",
      "75         M6G  Downtown Toronto  PostalCode, Borough, Neighborhood\n",
      "76         M6H      West Toronto  PostalCode, Borough, Neighborhood\n",
      "77         M6J      West Toronto  PostalCode, Borough, Neighborhood\n",
      "78         M6K      West Toronto  PostalCode, Borough, Neighborhood\n",
      "79         M6L        North York  PostalCode, Borough, Neighborhood\n",
      "80         M6M              York  PostalCode, Borough, Neighborhood\n",
      "81         M6N              York  PostalCode, Borough, Neighborhood\n",
      "82         M6P      West Toronto  PostalCode, Borough, Neighborhood\n",
      "83         M6R      West Toronto  PostalCode, Borough, Neighborhood\n",
      "84         M6S      West Toronto  PostalCode, Borough, Neighborhood\n",
      "85         M7A      Queen's Park  PostalCode, Borough, Neighborhood\n",
      "86         M7R       Mississauga  PostalCode, Borough, Neighborhood\n",
      "87         M7Y      East Toronto  PostalCode, Borough, Neighborhood\n",
      "88         M8V         Etobicoke  PostalCode, Borough, Neighborhood\n",
      "89         M8W         Etobicoke  PostalCode, Borough, Neighborhood\n",
      "90         M8X         Etobicoke  PostalCode, Borough, Neighborhood\n",
      "91         M8Y         Etobicoke  PostalCode, Borough, Neighborhood\n",
      "92         M8Z         Etobicoke  PostalCode, Borough, Neighborhood\n",
      "93         M9A         Etobicoke  PostalCode, Borough, Neighborhood\n",
      "94         M9B         Etobicoke  PostalCode, Borough, Neighborhood\n",
      "95         M9C         Etobicoke  PostalCode, Borough, Neighborhood\n",
      "96         M9L        North York  PostalCode, Borough, Neighborhood\n",
      "97         M9M        North York  PostalCode, Borough, Neighborhood\n",
      "98         M9N              York  PostalCode, Borough, Neighborhood\n",
      "99         M9P         Etobicoke  PostalCode, Borough, Neighborhood\n",
      "100        M9R         Etobicoke  PostalCode, Borough, Neighborhood\n",
      "101        M9V         Etobicoke  PostalCode, Borough, Neighborhood\n",
      "102        M9W         Etobicoke  PostalCode, Borough, Neighborhood\n",
      "\n",
      "[103 rows x 3 columns]\n"
     ]
    }
   ],
   "source": [
    "print(dfc)"
   ]
  },
  {
   "cell_type": "code",
   "execution_count": 33,
   "metadata": {},
   "outputs": [
    {
     "data": {
      "text/plain": [
       "(103, 3)"
      ]
     },
     "execution_count": 33,
     "metadata": {},
     "output_type": "execute_result"
    }
   ],
   "source": [
    "dfc.shape"
   ]
  }
 ],
 "metadata": {
  "kernelspec": {
   "display_name": "Python 3",
   "language": "python",
   "name": "python3"
  },
  "language_info": {
   "codemirror_mode": {
    "name": "ipython",
    "version": 3
   },
   "file_extension": ".py",
   "mimetype": "text/x-python",
   "name": "python",
   "nbconvert_exporter": "python",
   "pygments_lexer": "ipython3",
   "version": "3.7.3"
  }
 },
 "nbformat": 4,
 "nbformat_minor": 2
}
